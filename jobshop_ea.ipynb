{
 "cells": [
  {
   "cell_type": "markdown",
   "id": "7a32983a",
   "metadata": {},
   "source": [
    "# Evolutionary Algorithm approach for Job shop scheduling"
   ]
  },
  {
   "cell_type": "code",
   "execution_count": null,
   "id": "595a3d7a",
   "metadata": {},
   "outputs": [],
   "source": [
    "from deap import algorithms, base, creator, tools\n",
    "import numpy as np\n",
    "import pandas as pd\n",
    "import random\n",
    "from collections import defaultdict"
   ]
  },
  {
   "cell_type": "markdown",
   "id": "c55f7caf",
   "metadata": {},
   "source": [
    "# Load data"
   ]
  },
  {
   "cell_type": "code",
   "execution_count": null,
   "id": "a3f2fce3",
   "metadata": {},
   "outputs": [],
   "source": [
    "\"\"\"\n",
    "Place the JSP_dataset spreadsheet in the same directory\n",
    "\"\"\"\n",
    "pathname = 'JSP_dataset.xlsx'\n",
    "processing_times = pd.read_excel(pathname, sheet_name=\"Processing Time\", index_col=[0])\n",
    "machine_sequence = pd.read_excel(pathname, sheet_name=\"Machines Sequence\", index_col=[0])\n",
    "num_machines = processing_times.shape[1] # number of machines\n",
    "num_jobs = processing_times.shape[0] # number of jobs\n",
    "num_gene = num_machines * num_jobs # number of genes in a chromosome\n",
    "processing_times = processing_times.to_numpy().astype(int)"
   ]
  },
  {
   "cell_type": "markdown",
   "id": "f3596a5f",
   "metadata": {},
   "source": [
    "# Set algorithm parameters"
   ]
  },
  {
   "cell_type": "code",
   "execution_count": null,
   "id": "3bd10815",
   "metadata": {},
   "outputs": [],
   "source": [
    "population_size = 30\n",
    "crossover_probability = 0.8\n",
    "mutation_probability = 0.2\n",
    "mutation_selection_rate = 0.2\n",
    "num_iteration = 1000000\n",
    "random.seed(42)"
   ]
  },
  {
   "cell_type": "markdown",
   "id": "1fb1768c",
   "metadata": {},
   "source": [
    "# Convert individual to job orders per machine."
   ]
  },
  {
   "cell_type": "code",
   "execution_count": null,
   "id": "252eb485",
   "metadata": {},
   "outputs": [],
   "source": [
    "def decode_individual(individual):\n",
    "    \"\"\"\n",
    "    Args:\n",
    "        individual (list): A list of integers representing a candidate solution.\n",
    "\n",
    "    Returns:\n",
    "        list: A list of lists representing the job orders for each machine.\n",
    "    \"\"\"\n",
    "    # Convert individual to job orders per machine\n",
    "    orders = [[] for _ in range(num_machines)]\n",
    "    for i in range(num_jobs * num_machines):\n",
    "        job_index = individual[i]\n",
    "        machine_index = i % num_machines\n",
    "        orders[machine_index].append(job_index)\n",
    "    return orders"
   ]
  },
  {
   "cell_type": "markdown",
   "id": "d453f90d",
   "metadata": {},
   "source": [
    "# Calculate completion times for each job on each machine and return makespan as fitness."
   ]
  },
  {
   "cell_type": "code",
   "execution_count": null,
   "id": "8d04a012",
   "metadata": {},
   "outputs": [],
   "source": [
    "def evaluation(individual):\n",
    "    \"\"\"\n",
    "    Args:\n",
    "        individual (list): A list of integers representing a candidate solution.\n",
    "\n",
    "    Returns:\n",
    "        tuple: A tuple containing the makespan as a float and an empty tuple.\n",
    "    \"\"\"\n",
    "    # Calculate completion times for each job on each machine\n",
    "    orders = decode_individual(individual)\n",
    "    machine_times = np.zeros(num_machines)\n",
    "    job_times = np.zeros((num_jobs, num_machines))\n",
    "    for machine_index in range(num_machines):\n",
    "        for job_index in orders[machine_index]:\n",
    "            processing_time = processing_times[job_index][machine_index]\n",
    "            machine_times[machine_index] = max(machine_times[machine_index], job_times[job_index][machine_index - 1] if machine_index > 0 else 0) + processing_time\n",
    "            job_times[job_index][machine_index] = machine_times[machine_index]\n",
    "    \n",
    "    # Calculate makespan and return as fitness\n",
    "    makespan = max(machine_times)\n",
    "    return makespan,\n"
   ]
  },
  {
   "cell_type": "markdown",
   "id": "06454b83",
   "metadata": {},
   "source": [
    "# Fixes the offspring by ensuring that there are no more or less than num_machines in each job sequence.\n"
   ]
  },
  {
   "cell_type": "code",
   "execution_count": null,
   "id": "68d0bd79",
   "metadata": {},
   "outputs": [],
   "source": [
    "def fix_offspring(individual):\n",
    "    \"\"\"\n",
    "    Args:\n",
    "        individual (list): The offspring to be fixed.\n",
    "\n",
    "    Returns:\n",
    "        list: The fixed offspring.\n",
    "    \"\"\"\n",
    "    job_count = defaultdict(int)\n",
    "    machine_count = defaultdict(int)\n",
    "    for gene in individual:\n",
    "        job = gene // num_machines\n",
    "        machine = gene % num_machines\n",
    "        job_count[job] += 1\n",
    "        machine_count[machine] += 1\n",
    "    \n",
    "    excess_jobs = [job for job, count in job_count.items() if count > num_machines]\n",
    "    missing_jobs = [job for job, count in job_count.items() if count < num_machines]\n",
    "    \n",
    "    for job in excess_jobs:\n",
    "        for machine in range(num_machines):\n",
    "            if job * num_machines + machine not in individual:\n",
    "                for i in range(len(individual)):\n",
    "                    if individual[i] % num_machines == machine:\n",
    "                        individual[i] = job * num_machines + machine\n",
    "                        break\n",
    "    for job in missing_jobs:\n",
    "        job_machines = [machine for machine in range(num_machines) if job * num_machines + machine not in individual]\n",
    "        for i in range(len(individual)):\n",
    "            if machine_count[individual[i] % num_machines] < num_jobs and individual[i] // num_machines not in job_machines:\n",
    "                individual[i] = job * num_machines + individual[i] % num_machines\n",
    "                break\n",
    "        else:\n",
    "            machine = job_machines[0]\n",
    "            individual.append(job * num_machines + machine)\n",
    "    return individual"
   ]
  },
  {
   "cell_type": "markdown",
   "id": "374ab210",
   "metadata": {},
   "source": [
    "# Generates a custom permutation of job indices based on the given size."
   ]
  },
  {
   "cell_type": "code",
   "execution_count": null,
   "id": "2679838f",
   "metadata": {},
   "outputs": [],
   "source": [
    "def custom_permutation(ind_size):\n",
    "    \"\"\"\n",
    "    Args:\n",
    "        ind_size: The size of the permutation to generate.\n",
    "\n",
    "    Returns:\n",
    "        A list of job indices generated by permuting a list of integers\n",
    "        of size `ind_size`, and then taking the modulus `num_jobs` of each\n",
    "        element in the resulting list.\n",
    "    \"\"\"\n",
    "    temp = np.random.permutation(ind_size)\n",
    "    res = []\n",
    "    for i in range(len(temp)):\n",
    "        res.append(temp[i] % num_jobs)\n",
    "    return res"
   ]
  },
  {
   "cell_type": "markdown",
   "id": "c0201776",
   "metadata": {},
   "source": [
    "# Create DEAP toolbox and register functions"
   ]
  },
  {
   "cell_type": "code",
   "execution_count": null,
   "id": "901049c1",
   "metadata": {},
   "outputs": [],
   "source": [
    "creator.create(\"FitnessMin\", base.Fitness, weights=(-1.0,))\n",
    "creator.create(\"Individual\", list, fitness=creator.FitnessMin)\n",
    "toolbox = base.Toolbox()\n",
    "toolbox.register(\"indices\", custom_permutation, num_gene)\n",
    "toolbox.register(\"individual\", tools.initIterate, creator.Individual, toolbox.indices)\n",
    "toolbox.register(\"population\", tools.initRepeat, list, toolbox.individual, n=population_size)\n",
    "toolbox.register(\"mate\", tools.cxTwoPoint)\n",
    "toolbox.register(\"mutate\", tools.mutShuffleIndexes, indpb=mutation_selection_rate)\n",
    "toolbox.register(\"select\", tools.selTournament, tournsize=3)\n",
    "toolbox.register(\"evaluate\", evaluation)"
   ]
  },
  {
   "cell_type": "markdown",
   "id": "1988ee3b",
   "metadata": {},
   "source": [
    "# Run algorithm"
   ]
  },
  {
   "cell_type": "code",
   "execution_count": null,
   "id": "aca06f9b",
   "metadata": {},
   "outputs": [],
   "source": [
    "population = toolbox.population()\n",
    "offspring = algorithms.varAnd(population, toolbox, crossover_probability, mutation_probability)\n",
    "\n",
    "best_fitness = float('inf')\n",
    "no_improvement_count = 0\n",
    "early_stopping_threshold = 1000\n",
    "makespans = set()\n",
    "makespans_record = []\n",
    "for generation in range(num_iteration):\n",
    "    # Evaluate fitness of offspring\n",
    "    fitnesses = list(map(toolbox.evaluate, offspring))\n",
    "    for individual, fitness in zip(offspring, fitnesses):\n",
    "        individual.fitness.values = fitness\n",
    "        \n",
    "    # Select the next generation's population\n",
    "    population = toolbox.select(offspring, k=population_size)\n",
    "    \n",
    "    # Apply crossover and mutation to create the offspring\n",
    "    offspring = algorithms.varAnd(population, toolbox, crossover_probability, mutation_probability)\n",
    "    \n",
    "    # Fix offspring by replacing excess jobs and adding missing jobs\n",
    "    for i in range(len(offspring)):\n",
    "        offspring[i] = fix_offspring(offspring[i])\n",
    "    \n",
    "    # Update statistics and print progress\n",
    "    fits = [ind.fitness.values[0] for ind in population]\n",
    "    min_fit = min(fits)\n",
    "    if min_fit < best_fitness:\n",
    "        best_fitness = min_fit\n",
    "        best_individual = population[fits.index(min_fit)]\n",
    "        no_improvement_count = 0\n",
    "    else:\n",
    "        no_improvement_count += 1\n",
    "        if no_improvement_count > early_stopping_threshold:\n",
    "            print(f\"Stopping early after {generation} generations with no improvement.\")\n",
    "            print(f\"Optimal Sequence: {best_individual}\")\n",
    "            break\n",
    "    makespans.add(best_fitness)\n",
    "    makespans_record.append(best_fitness)\n",
    "    print(f\"Generation {generation + 1}: Min fitness = {best_fitness}\")"
   ]
  },
  {
   "cell_type": "code",
   "execution_count": null,
   "id": "ad22145d",
   "metadata": {},
   "outputs": [],
   "source": [
    "print(makespans)\n",
    "# print(makespans_record)\n",
    "import matplotlib.pyplot as plt\n",
    "%matplotlib inline\n",
    "plt.plot([i for i in range(len(makespans_record))],makespans_record,'b')\n",
    "plt.ylabel('makespan',fontsize=15)\n",
    "plt.xlabel('generation',fontsize=15)\n",
    "plt.show()"
   ]
  },
  {
   "cell_type": "code",
   "execution_count": null,
   "id": "6417c64d",
   "metadata": {},
   "outputs": [],
   "source": []
  }
 ],
 "metadata": {
  "kernelspec": {
   "display_name": "Python 3",
   "language": "python",
   "name": "python3"
  },
  "language_info": {
   "codemirror_mode": {
    "name": "ipython",
    "version": 3
   },
   "file_extension": ".py",
   "mimetype": "text/x-python",
   "name": "python",
   "nbconvert_exporter": "python",
   "pygments_lexer": "ipython3",
   "version": "3.8.8"
  }
 },
 "nbformat": 4,
 "nbformat_minor": 5
}
